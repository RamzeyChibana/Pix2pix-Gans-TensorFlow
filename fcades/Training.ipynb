{
 "cells": [
  {
   "cell_type": "code",
   "execution_count": null,
   "metadata": {},
   "outputs": [],
   "source": [
    "import tensorflow as tf\n",
    "from tensorflow import keras\n",
    "import tensorflow_datasets as tfds\n",
    "from keras import layers,losses,optimizers,regularizers\n",
    "import matplotlib.pyplot as plt "
   ]
  },
  {
   "cell_type": "markdown",
   "metadata": {},
   "source": [
    "# Hyper Parameters"
   ]
  },
  {
   "cell_type": "code",
   "execution_count": null,
   "metadata": {},
   "outputs": [],
   "source": [
    "IMAGE_WIDTH=256\n",
    "IMAGE_HEIGHT=256\n",
    "PATH=\"D:\\\\df\\\\ai\\\\facades\\\\\" #dataset Dir\n",
    "BUFFER_SIZE=400\n",
    "BACH_SIZE=1\n",
    "LR=2e-4\n",
    "B1=0.5\n",
    "LAMBDA=100"
   ]
  },
  {
   "cell_type": "markdown",
   "metadata": {},
   "source": [
    "# Build Data Pipeline"
   ]
  },
  {
   "cell_type": "code",
   "execution_count": null,
   "metadata": {},
   "outputs": [],
   "source": [
    "def split_image(image):\n",
    "    width=tf.shape(image)[1]\n",
    "    width=int(width/2)\n",
    "    in_image=image[:,:width, :]\n",
    "    real_image=image[:,width:,:]\n",
    "    return in_image,real_image\n",
    "\n",
    "def resize_image(in_image,real_image):\n",
    "    in_image=tf.image.resize(in_image,(IMAGE_WIDTH,IMAGE_HEIGHT),tf.image.ResizeMethod.NEAREST_NEIGHBOR)\n",
    "    real_image=tf.image.resize(real_image,(IMAGE_WIDTH,IMAGE_HEIGHT),tf.image.ResizeMethod.NEAREST_NEIGHBOR)\n",
    "    return in_image,real_image\n",
    "\n",
    "def normalize_data(in_image,real_image):\n",
    "    return tf.cast(2*(in_image/255)-1,tf.float32),tf.cast(2*(real_image/255)-1,tf.float32)\n",
    "\n",
    "\n",
    "def load_data(image_file):\n",
    "    image = tf.io.read_file(image_file)\n",
    "    image = tf.io.decode_jpeg(image)\n",
    "    in_image,real_image=split_image(image)\n",
    "    in_image,real_image=resize_image(in_image,real_image)\n",
    "    in_image,real_image=normalize_data(in_image,real_image)\n",
    "    return real_image,in_image\n",
    "\n",
    "\n",
    "\n",
    "def normalize_to_normal(x):\n",
    "    return 255*(x-1)/2\n",
    "\n",
    "\n",
    "\n",
    "ds_train=tf.data.Dataset.list_files(PATH+\"train\\\\*.jpg\",shuffle=False)\n",
    "ds_train=ds_train.map(load_data,num_parallel_calls=tf.data.AUTOTUNE)\n",
    "ds_train=ds_train.cache()\n",
    "ds_train=ds_train.shuffle(buffer_size=BUFFER_SIZE)#400\n",
    "ds_train=ds_train.batch(batch_size=BACH_SIZE)\n",
    "ds_train=ds_train.prefetch(tf.data.AUTOTUNE)\n",
    "\n",
    "ds_test=tf.data.Dataset.list_files(PATH+\"val\\\\*.jpg\",shuffle=False)\n",
    "ds_test=ds_test.map(load_data,num_parallel_calls=tf.data.AUTOTUNE)\n",
    "ds_test=ds_test.cache()\n",
    "ds_test=ds_test.batch(batch_size=BACH_SIZE)\n",
    "ds_test=ds_test.prefetch(tf.data.AUTOTUNE)\n",
    "\n",
    "\n"
   ]
  },
  {
   "cell_type": "markdown",
   "metadata": {},
   "source": [
    "# Build Models"
   ]
  },
  {
   "cell_type": "markdown",
   "metadata": {},
   "source": [
    "## Generator Network\n"
   ]
  },
  {
   "cell_type": "code",
   "execution_count": null,
   "metadata": {},
   "outputs": [],
   "source": [
    "class Encoder(layers.Layer):\n",
    "    def __init__(self,channels,use_bachnorm=True,name=None):\n",
    "        self.use_bachnorm=use_bachnorm\n",
    "        super(Encoder,self).__init__(name=name)\n",
    "        self.cn=layers.Conv2D(channels,4,2,padding=\"same\",use_bias=False if use_bachnorm else True)\n",
    "        self.bn=layers.BatchNormalization()\n",
    "    def call(self,inputs,training=False):\n",
    "        x=self.cn(inputs)\n",
    "        if self.use_bachnorm:\n",
    "            x=self.bn(x,training=training)\n",
    "        return tf.nn.leaky_relu(x)\n",
    "\n",
    "\n",
    "class Decoder(layers.Layer):\n",
    "    def __init__(self,channels,use_dropout=False,name=None):\n",
    "        super(Decoder,self).__init__(name=name)\n",
    "        self.use_dropout=use_dropout\n",
    "        self.cn=layers.Conv2DTranspose(channels,4,2,padding='same')\n",
    "        self.bn=layers.BatchNormalization()\n",
    "        self.drop=layers.Dropout(0.5)\n",
    "    def call(self,inputs,training=False):\n",
    "        x=self.cn(inputs)\n",
    "        x=self.bn(x,training=training)\n",
    "        if self.use_dropout:\n",
    "            x=self.drop(x)\n",
    "        return tf.nn.relu(x)\n",
    "\n",
    "class Generator(tf.keras.Model):\n",
    "    def __init__(self):\n",
    "        super().__init__()\n",
    "        self.down1=Encoder(64,use_bachnorm=False,name=\"down_1\")\n",
    "        self.down2=Encoder(128,name=\"down_2\")\n",
    "        self.down3=Encoder(256,name=\"down_3\")\n",
    "        self.down4=Encoder(512,name=\"down_4\")\n",
    "        self.down5=Encoder(512,name=\"down_5\")\n",
    "        self.down6=Encoder(512,name=\"down_6\")\n",
    "        self.down7=Encoder(512,name=\"down_7\")\n",
    "\n",
    "        self.bottom=Encoder(512,name=\"Bottom\")\n",
    "        \n",
    "\n",
    "        self.up1=Decoder(512,use_dropout=True,name=\"Up_1\")\n",
    "        self.up2=Decoder(512,use_dropout=True,name=\"Up_2\")\n",
    "        self.up3=Decoder(512,use_dropout=True,name=\"Up_3\")\n",
    "        self.up4=Decoder(512,name=\"Up_4\")\n",
    "        self.up5=Decoder(256,name=\"Up_5\")\n",
    "        self.up6=Decoder(128,name=\"Up_6\")\n",
    "        self.up7=Decoder(64,name=\"Up_7\")\n",
    "\n",
    "        self.last=layers.Conv2DTranspose(3,4,2,\"same\")\n",
    "\n",
    "    def call(self,inputs,training=False):\n",
    "        d1=self.down1(inputs,training=training)\n",
    "        d2=self.down2(d1,training=training)\n",
    "        d3=self.down3(d2,training=training)\n",
    "        d4=self.down4(d3,training=training)\n",
    "        d5=self.down5(d4,training=training)\n",
    "        d6=self.down6(d5,training=training)\n",
    "        d7=self.down7(d6,training=training)\n",
    "\n",
    "        d8=self.bottom(d7,training=training)\n",
    "    \n",
    "        u1=self.up1(d8,training=training)\n",
    "        u2=self.up2(tf.concat([u1,d7],axis=-1),training=training)\n",
    "        u3=self.up3(tf.concat([u2,d6],axis=-1),training=training)\n",
    "        u4=self.up4(tf.concat([u3,d5],axis=-1),training=training)\n",
    "        u5=self.up5(tf.concat([u4,d4],axis=-1),training=training)\n",
    "        u6=self.up6(tf.concat([u5,d3],axis=-1),training=training)\n",
    "        u7=self.up7(tf.concat([u6,d2],axis=-1),training=training)\n",
    "        u8=self.last(tf.concat([u7,d1],axis=-1),training=training)\n",
    "\n",
    "        return tf.nn.tanh(u8)\n",
    "        \n",
    "    def architecture(self):\n",
    "        x=keras.Input((256,256,3))\n",
    "        model=tf.keras.Model(inputs=[x],outputs=self.call(x))\n",
    "        return model.summary()\n",
    "\n",
    "\n",
    "generator=Generator()\n",
    "generator.architecture()\n",
    "        \n"
   ]
  },
  {
   "cell_type": "markdown",
   "metadata": {},
   "source": [
    "## Discriminator Network"
   ]
  },
  {
   "cell_type": "code",
   "execution_count": null,
   "metadata": {},
   "outputs": [],
   "source": [
    "\n",
    "class Discriminator(tf.keras.Model):\n",
    "    def __init__(self):\n",
    "        super(Discriminator,self).__init__()\n",
    "        self.c64=Encoder(64,use_bachnorm=False,name='block_1')\n",
    "        self.c128=Encoder(128,use_bachnorm=True,name='block_2')\n",
    "        self.c256=Encoder(256,use_bachnorm=True,name='block_3')\n",
    "        self.c512=Encoder(512,use_bachnorm=True,name='block_4')\n",
    "        self.pach=layers.Conv2D(1,(4,4),padding=\"same\")\n",
    "    def call(self,inputs,targets,training=False):\n",
    "        data=tf.concat([inputs,targets],axis=-1)\n",
    "        x=self.c64(data,training=training)\n",
    "        x=self.c128(x,training=training)\n",
    "        x=self.c256(x,training=training)\n",
    "        x=self.c512(x,training=training)\n",
    "        x=self.pach(x,training=training)\n",
    "        return tf.nn.sigmoid(x)\n",
    "    def architecture(self):\n",
    "        x=keras.Input((256,256,3))\n",
    "        target=keras.Input((256,256,3))\n",
    "        model=tf.keras.Model(inputs=[x,target],outputs=self.call(x,target))\n",
    "        return model.summary()\n",
    "\n",
    "discriminator=Discriminator()\n",
    "discriminator.architecture()   \n"
   ]
  },
  {
   "cell_type": "markdown",
   "metadata": {},
   "source": [
    "# Train The Models"
   ]
  },
  {
   "cell_type": "markdown",
   "metadata": {},
   "source": [
    "### Optimizers and Loss Function\n",
    "\n",
    "* loss function : log(D(x,y))+log(1-D(x,G(x,z)))\n",
    "* Optimizers : Adam\n",
    "* learning rate :0.0002\n",
    "* Beta_1 : 0.5"
   ]
  },
  {
   "cell_type": "code",
   "execution_count": null,
   "metadata": {},
   "outputs": [],
   "source": [
    "loss_fn=losses.BinaryCrossentropy()\n",
    "gen_opt=optimizers.Adam(LR,B1)\n",
    "disc_opt=optimizers.Adam(LR,B1)\n",
    "num_epochs=200"
   ]
  },
  {
   "cell_type": "markdown",
   "metadata": {},
   "source": [
    "### Lossess"
   ]
  },
  {
   "cell_type": "code",
   "execution_count": null,
   "metadata": {},
   "outputs": [],
   "source": [
    "def generator_loss(gen_image,real_image,disc_gen):\n",
    "    gen_loss=loss_fn(tf.ones_like(disc_gen),disc_gen)\n",
    "    l1_loss=tf.reduce_mean(tf.abs(real_image-gen_image))\n",
    "    loss=gen_loss+LAMBDA*l1_loss\n",
    "    return loss\n",
    "\n",
    "def discriminator_loss(disc_gen,disc_real):\n",
    "    real_loss=loss_fn(tf.ones_like(disc_real),disc_real)\n",
    "    fake_loss=loss_fn(tf.zeros_like(disc_gen),disc_gen)\n",
    "    loss=real_loss+fake_loss\n",
    "    return loss\n"
   ]
  },
  {
   "cell_type": "markdown",
   "metadata": {},
   "source": [
    "### Generate images"
   ]
  },
  {
   "cell_type": "code",
   "execution_count": null,
   "metadata": {},
   "outputs": [],
   "source": [
    "def generate_images(model,input, target):\n",
    "  prediction = model(input, training=True)\n",
    "  plt.figure(figsize=(15, 15))\n",
    "\n",
    "  display_list = [input[0], target[0], prediction[0]]\n",
    "  title = ['Input Image', 'Real Image', 'Predicted Image']\n",
    "\n",
    "  for i in range(3):\n",
    "    plt.subplot(1, 3, i+1)\n",
    "    plt.title(title[i])\n",
    "    # Getting the pixel values in the [0, 1] range to plot.\n",
    "    plt.imshow(display_list[i] * 0.5 + 0.5)\n",
    "    plt.axis('off')\n",
    "  plt.show()\n",
    "\n",
    "ds=ds_test.take(10)\n",
    "\n",
    "for example_input, example_target in ds:\n",
    "  generate_images(generator, example_input, example_target)"
   ]
  },
  {
   "cell_type": "markdown",
   "metadata": {},
   "source": [
    "### Training Loop"
   ]
  },
  {
   "cell_type": "code",
   "execution_count": null,
   "metadata": {},
   "outputs": [],
   "source": [
    "import tqdm\n",
    "from IPython import display\n",
    "\n",
    "for epoch in range(num_epochs):\n",
    "    print(f\"epoch number: {epoch}...\")\n",
    "    for idx,(inputs,targets) in enumerate(tqdm.tqdm(ds_train)):\n",
    "        with tf.GradientTape() as gen_tape,tf.GradientTape() as disc_tape:\n",
    "            pred_img=generator(inputs,training=True)\n",
    "            disc_pred=discriminator(inputs,pred_img,training=True)\n",
    "            disc_real=discriminator(inputs,targets,training=True)\n",
    "            gen_loss=generator_loss(pred_img,targets,disc_pred)\n",
    "            disc_loss=discriminator_loss(disc_pred,disc_real)\n",
    "        #Back Propagation\n",
    "        gen_grads=gen_tape.gradient(gen_loss,generator.trainable_variables)\n",
    "        gen_opt.apply_gradients(zip(gen_grads,generator.trainable_variables))\n",
    "        disc_grads=disc_tape.gradient(disc_loss,discriminator.trainable_variables)\n",
    "        disc_opt.apply_gradients(zip(disc_grads,discriminator.trainable_variables))\n",
    "    \n",
    "    \n",
    "    display.clear_output(wait=True)\n",
    "    ds=ds_test.take(4)\n",
    "    for example_input, example_target in ds:\n",
    "        generate_images(generator, example_input, example_target)\n",
    "        "
   ]
  },
  {
   "cell_type": "code",
   "execution_count": null,
   "metadata": {},
   "outputs": [],
   "source": [
    "\n",
    "generator.save(\"D:\\\\df\\\\ai\\\\models\\\\gan\\\\fcades\\\\generator2\")\n",
    "discriminator.save(\"D:\\\\df\\\\ai\\\\models\\\\gan\\\\fcades\\\\discriminator\")"
   ]
  }
 ],
 "metadata": {
  "kernelspec": {
   "display_name": "Python 3.9.7 64-bit",
   "language": "python",
   "name": "python3"
  },
  "language_info": {
   "codemirror_mode": {
    "name": "ipython",
    "version": 3
   },
   "file_extension": ".py",
   "mimetype": "text/x-python",
   "name": "python",
   "nbconvert_exporter": "python",
   "pygments_lexer": "ipython3",
   "version": "3.9.7"
  },
  "orig_nbformat": 4,
  "vscode": {
   "interpreter": {
    "hash": "f3663913924b1daa3d8d3926798e99031b125700758b9d2e89fd61fec1c9e6b0"
   }
  }
 },
 "nbformat": 4,
 "nbformat_minor": 2
}
